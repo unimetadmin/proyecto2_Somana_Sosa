{
 "cells": [
  {
   "cell_type": "code",
   "execution_count": 2,
   "metadata": {},
   "outputs": [],
   "source": [
    "import numpy as np\n",
    "import pandas as pd\n",
    "import matplotlib.pyplot as plt\n",
    "from sklearn.model_selection import train_test_split\n",
    "from sklearn.preprocessing import MinMaxScaler \n",
    "from sklearn import datasets, linear_model ##Dataset"
   ]
  },
  {
   "cell_type": "code",
   "execution_count": 3,
   "metadata": {},
   "outputs": [],
   "source": [
    "ventas = pd.read_csv('data/ventas.csv')\n",
    "inventario = pd.read_csv('data/inventario.csv')\n",
    "facturas = pd.read_csv('data/facturas.csv')\n",
    "facturaProducto = pd.read_csv('data/facturaProducto.csv')\n",
    "productos = pd.read_csv('data/productos.csv')\n",
    "sharkLoin = pd.read_csv('data/shark-loin.csv')"
   ]
  },
  {
   "cell_type": "code",
   "execution_count": 4,
   "metadata": {},
   "outputs": [
    {
     "data": {
      "text/html": [
       "<div>\n",
       "<style scoped>\n",
       "    .dataframe tbody tr th:only-of-type {\n",
       "        vertical-align: middle;\n",
       "    }\n",
       "\n",
       "    .dataframe tbody tr th {\n",
       "        vertical-align: top;\n",
       "    }\n",
       "\n",
       "    .dataframe thead th {\n",
       "        text-align: right;\n",
       "    }\n",
       "</style>\n",
       "<table border=\"1\" class=\"dataframe\">\n",
       "  <thead>\n",
       "    <tr style=\"text-align: right;\">\n",
       "      <th></th>\n",
       "      <th>totalpagado</th>\n",
       "      <th>cantidad</th>\n",
       "    </tr>\n",
       "  </thead>\n",
       "  <tbody>\n",
       "    <tr>\n",
       "      <th>0</th>\n",
       "      <td>2375</td>\n",
       "      <td>69</td>\n",
       "    </tr>\n",
       "    <tr>\n",
       "      <th>1</th>\n",
       "      <td>916</td>\n",
       "      <td>46</td>\n",
       "    </tr>\n",
       "    <tr>\n",
       "      <th>2</th>\n",
       "      <td>348</td>\n",
       "      <td>7</td>\n",
       "    </tr>\n",
       "    <tr>\n",
       "      <th>3</th>\n",
       "      <td>2350</td>\n",
       "      <td>86</td>\n",
       "    </tr>\n",
       "    <tr>\n",
       "      <th>4</th>\n",
       "      <td>429</td>\n",
       "      <td>15</td>\n",
       "    </tr>\n",
       "  </tbody>\n",
       "</table>\n",
       "</div>"
      ],
      "text/plain": [
       "   totalpagado  cantidad\n",
       "0         2375        69\n",
       "1          916        46\n",
       "2          348         7\n",
       "3         2350        86\n",
       "4          429        15"
      ]
     },
     "execution_count": 4,
     "metadata": {},
     "output_type": "execute_result"
    }
   ],
   "source": [
    "facturaProd = facturaProducto[['id_factura', 'cantidad']]\n",
    "\n",
    "facturaProd = facturaProducto.groupby(['id_factura'],as_index=False)['cantidad'].sum().sort_values(by=['id_factura'], ascending=True)\n",
    "\n",
    "joinFactFP = pd.merge(facturas, facturaProd, on='id_factura')\n",
    "\n",
    "joinFactFP.head()\n",
    "\n",
    "relacionCantPag = joinFactFP[['totalpagado', 'cantidad']]\n",
    "\n",
    "relacionCantPag.head()"
   ]
  },
  {
   "cell_type": "code",
   "execution_count": 5,
   "metadata": {},
   "outputs": [],
   "source": [
    "X = relacionCantPag['cantidad'].values.reshape(-1,1) # Como X solo tiene 1 tenemos que 'reshape' para asegurar que siga siendo una matrix (array) y no un vector (-1,)\n",
    "y = relacionCantPag['totalpagado'].values"
   ]
  },
  {
   "cell_type": "code",
   "execution_count": 6,
   "metadata": {},
   "outputs": [
    {
     "name": "stdout",
     "output_type": "stream",
     "text": [
      "La forma de X_train es:  (453, 1)\n",
      "La forma de y_train es:  (453,)\n",
      "La forma de X_test es:  (195, 1)\n",
      "La forma de y_test es:  (195,)\n"
     ]
    }
   ],
   "source": [
    "X_train, X_test, y_train, y_test = train_test_split(X, y, test_size=0.3, random_state=0)\n",
    "print('La forma de X_train es: ', X_train.shape)\n",
    "print('La forma de y_train es: ', y_train.shape)\n",
    "print('La forma de X_test es: ', X_test.shape)\n",
    "print('La forma de y_test es: ', y_test.shape)"
   ]
  },
  {
   "cell_type": "code",
   "execution_count": 7,
   "metadata": {},
   "outputs": [
    {
     "data": {
      "text/plain": [
       "LinearRegression()"
      ]
     },
     "execution_count": 7,
     "metadata": {},
     "output_type": "execute_result"
    }
   ],
   "source": [
    "from sklearn.linear_model import LinearRegression\n",
    "regresor = LinearRegression()\n",
    "regresor.fit(X_train, y_train)"
   ]
  },
  {
   "cell_type": "code",
   "execution_count": 8,
   "metadata": {},
   "outputs": [],
   "source": [
    "y_fit = regresor.predict(X_train) # Valores ajustados durante el entrenamiento\n",
    "y_pred = regresor.predict(X_test)  # Valores resultantes con la nueva información"
   ]
  },
  {
   "cell_type": "code",
   "execution_count": 9,
   "metadata": {},
   "outputs": [
    {
     "data": {
      "image/png": "[encoded data removed]",
      "text/plain": [
       "<Figure size 432x288 with 1 Axes>"
      ]
     },
     "metadata": {
      "needs_background": "light"
     },
     "output_type": "display_data"
    },
    {
     "data": {
      "image/png": "[encoded data removed]",
      "text/plain": [
       "<Figure size 432x288 with 1 Axes>"
      ]
     },
     "metadata": {
      "needs_background": "light"
     },
     "output_type": "display_data"
    }
   ],
   "source": [
    "# Para el conjunto de entrenamiento\n",
    "plt.scatter(X_train, y_train, color = 'red')\n",
    "plt.plot(X_train, y_fit, color = 'blue')\n",
    "plt.title('Relación entre la cantidad de producto comprado en el monto total pagado')\n",
    "plt.xlabel('Cantidad de producto')\n",
    "plt.ylabel('Costo')\n",
    "plt.show()\n",
    "\n",
    "# Para el conjunto de validación\n",
    "plt.scatter(X_test, y_test, color = 'red')\n",
    "plt.plot(X_test, y_pred, color = 'blue')\n",
    "plt.title('Relación entre la cantidad de producto comprado en el monto total pagado')\n",
    "plt.xlabel('Cantidad de producto')\n",
    "plt.ylabel('Costo')\n",
    "plt.show()"
   ]
  },
  {
   "cell_type": "code",
   "execution_count": 10,
   "metadata": {},
   "outputs": [
    {
     "name": "stdout",
     "output_type": "stream",
     "text": [
      "RMSE =  0.504229214752227\n"
     ]
    }
   ],
   "source": [
    "from statsmodels.tools.eval_measures import rmse\n",
    "RMSE = np.sum(rmse(y_pred, y_test))/len(y)\n",
    "print('RMSE = ', RMSE)"
   ]
  },
  {
   "cell_type": "code",
   "execution_count": 12,
   "metadata": {},
   "outputs": [],
   "source": [
    "lr = linear_model.LinearRegression() ##Declaración del algoritmo a utilizar.\n",
    "\n",
    "#Entreno el modelo\n",
    "lr.fit(X_train, y_train)\n",
    "\n",
    "#Realizo una predicción\n",
    "Y_pred = lr.predict(X_test)"
   ]
  },
  {
   "cell_type": "code",
   "execution_count": 13,
   "metadata": {},
   "outputs": [
    {
     "name": "stdout",
     "output_type": "stream",
     "text": [
      "DATOS DEL MODELO REGRESIÓN LINEAL SIMPLE\n",
      "\n",
      "Valor de la pendiente o coeficiente \"w\":\n",
      "[26.61444219]\n",
      "Valor de la intersección o coeficiente \"b\":\n",
      "-31.095740300494526\n",
      "\n",
      "La ecuación del modelo es igual a:\n",
      "y =  [26.61444219] x  -31.095740300494526\n"
     ]
    }
   ],
   "source": [
    "print('DATOS DEL MODELO REGRESIÓN LINEAL SIMPLE')\n",
    "print()\n",
    "print('Valor de la pendiente o coeficiente \"w\":')\n",
    "print(lr.coef_)\n",
    "print('Valor de la intersección o coeficiente \"b\":')\n",
    "print(lr.intercept_)\n",
    "print()\n",
    "print('La ecuación del modelo es igual a:')\n",
    "print('y = ', lr.coef_, 'x ', lr.intercept_)"
   ]
  },
  {
   "cell_type": "code",
   "execution_count": 14,
   "metadata": {},
   "outputs": [],
   "source": [
    "def precio(productos):\n",
    "    Y = lr.coef_[0]*productos + lr.intercept_\n",
    "    return Y"
   ]
  },
  {
   "cell_type": "markdown",
   "metadata": {},
   "source": [
    "# Predicción 1:"
   ]
  },
  {
   "cell_type": "code",
   "execution_count": 16,
   "metadata": {
    "scrolled": true
   },
   "outputs": [
    {
     "name": "stdout",
     "output_type": "stream",
     "text": [
      "Costo aproximado en relación a la cantidad de productos comprados\n",
      "\n",
      "El precio de una compra con 10 productos será de: 101.97647064347345 dolares\n",
      "\n",
      "El precio de una compra con 10 productos será de: 288.2775659650286 dolares\n",
      "\n",
      "El precio de una compra con 10 productos será de: 820.5664097409004 dolares\n"
     ]
    }
   ],
   "source": [
    "print(\"Costo aproximado en relación a la cantidad de productos comprados\")\n",
    "print(\"\")\n",
    "print(\"El precio de una compra con 10 productos será de: \" + str(precio(5)) + \" dolares\")\n",
    "print(\"\")\n",
    "print(\"El precio de una compra con 10 productos será de: \" + str(precio(12)) + \" dolares\")\n",
    "print(\"\")\n",
    "print(\"El precio de una compra con 10 productos será de: \" + str(precio(32)) + \" dolares\")"
   ]
  },
  {
   "cell_type": "code",
   "execution_count": 17,
   "metadata": {},
   "outputs": [
    {
     "data": {
      "text/html": [
       "<div>\n",
       "<style scoped>\n",
       "    .dataframe tbody tr th:only-of-type {\n",
       "        vertical-align: middle;\n",
       "    }\n",
       "\n",
       "    .dataframe tbody tr th {\n",
       "        vertical-align: top;\n",
       "    }\n",
       "\n",
       "    .dataframe thead th {\n",
       "        text-align: right;\n",
       "    }\n",
       "</style>\n",
       "<table border=\"1\" class=\"dataframe\">\n",
       "  <thead>\n",
       "    <tr style=\"text-align: right;\">\n",
       "      <th></th>\n",
       "      <th>hora</th>\n",
       "      <th>suma</th>\n",
       "    </tr>\n",
       "  </thead>\n",
       "  <tbody>\n",
       "    <tr>\n",
       "      <th>0</th>\n",
       "      <td>2021-06-12 10:00:00</td>\n",
       "      <td>2</td>\n",
       "    </tr>\n",
       "    <tr>\n",
       "      <th>1</th>\n",
       "      <td>2021-06-12 10:00:00</td>\n",
       "      <td>14</td>\n",
       "    </tr>\n",
       "    <tr>\n",
       "      <th>2</th>\n",
       "      <td>2021-06-12 11:00:00</td>\n",
       "      <td>17</td>\n",
       "    </tr>\n",
       "    <tr>\n",
       "      <th>3</th>\n",
       "      <td>2021-06-12 11:00:00</td>\n",
       "      <td>27</td>\n",
       "    </tr>\n",
       "    <tr>\n",
       "      <th>4</th>\n",
       "      <td>2021-06-12 12:00:00</td>\n",
       "      <td>34</td>\n",
       "    </tr>\n",
       "    <tr>\n",
       "      <th>...</th>\n",
       "      <td>...</td>\n",
       "      <td>...</td>\n",
       "    </tr>\n",
       "    <tr>\n",
       "      <th>200</th>\n",
       "      <td>2021-06-18 18:00:00</td>\n",
       "      <td>1649</td>\n",
       "    </tr>\n",
       "    <tr>\n",
       "      <th>201</th>\n",
       "      <td>2021-06-18 18:00:00</td>\n",
       "      <td>1659</td>\n",
       "    </tr>\n",
       "    <tr>\n",
       "      <th>202</th>\n",
       "      <td>2021-06-18 18:00:00</td>\n",
       "      <td>1668</td>\n",
       "    </tr>\n",
       "    <tr>\n",
       "      <th>203</th>\n",
       "      <td>2021-06-18 19:00:00</td>\n",
       "      <td>1683</td>\n",
       "    </tr>\n",
       "    <tr>\n",
       "      <th>204</th>\n",
       "      <td>2021-06-18 19:00:00</td>\n",
       "      <td>1687</td>\n",
       "    </tr>\n",
       "  </tbody>\n",
       "</table>\n",
       "<p>205 rows × 2 columns</p>\n",
       "</div>"
      ],
      "text/plain": [
       "                    hora  suma\n",
       "0    2021-06-12 10:00:00     2\n",
       "1    2021-06-12 10:00:00    14\n",
       "2    2021-06-12 11:00:00    17\n",
       "3    2021-06-12 11:00:00    27\n",
       "4    2021-06-12 12:00:00    34\n",
       "..                   ...   ...\n",
       "200  2021-06-18 18:00:00  1649\n",
       "201  2021-06-18 18:00:00  1659\n",
       "202  2021-06-18 18:00:00  1668\n",
       "203  2021-06-18 19:00:00  1683\n",
       "204  2021-06-18 19:00:00  1687\n",
       "\n",
       "[205 rows x 2 columns]"
      ]
     },
     "execution_count": 17,
     "metadata": {},
     "output_type": "execute_result"
    }
   ],
   "source": [
    "sharkStock = inventario.loc[inventario['id_producto'] == 48]\n",
    "sharkStock = sharkStock[['id_fp', 'hora']]\n",
    "\n",
    "registroShark = pd.merge(sharkStock, sharkLoin, on='id_fp')\n",
    "registroShark = registroShark[['hora', 'suma']]\n",
    "\n",
    "\n",
    "registroShark"
   ]
  },
  {
   "cell_type": "code",
   "execution_count": 18,
   "metadata": {},
   "outputs": [],
   "source": [
    "new = registroShark[\"hora\"].str.split(\" \", n = 1, expand = True)\n",
    "registroShark[\"Dia\"]= new[0]\n",
    "registroShark = registroShark.drop(columns=['hora'])"
   ]
  },
  {
   "cell_type": "code",
   "execution_count": 19,
   "metadata": {},
   "outputs": [],
   "source": [
    "registroShark[\"Dia\"].replace({\n",
    "    \"2021-06-12\": \"1\", \n",
    "    \"2021-06-13\": \"2\", \n",
    "    \"2021-06-14\": \"3\", \n",
    "    \"2021-06-15\": \"4\", \n",
    "    \"2021-06-16\": \"5\", \n",
    "    \"2021-06-17\": \"6\", \n",
    "    \"2021-06-18\": \"7\", \n",
    "    }, inplace=True)"
   ]
  },
  {
   "cell_type": "code",
   "execution_count": 21,
   "metadata": {},
   "outputs": [
    {
     "data": {
      "text/html": [
       "<div>\n",
       "<style scoped>\n",
       "    .dataframe tbody tr th:only-of-type {\n",
       "        vertical-align: middle;\n",
       "    }\n",
       "\n",
       "    .dataframe tbody tr th {\n",
       "        vertical-align: top;\n",
       "    }\n",
       "\n",
       "    .dataframe thead th {\n",
       "        text-align: right;\n",
       "    }\n",
       "</style>\n",
       "<table border=\"1\" class=\"dataframe\">\n",
       "  <thead>\n",
       "    <tr style=\"text-align: right;\">\n",
       "      <th></th>\n",
       "      <th>Dia</th>\n",
       "      <th>suma</th>\n",
       "    </tr>\n",
       "  </thead>\n",
       "  <tbody>\n",
       "    <tr>\n",
       "      <th>0</th>\n",
       "      <td>1</td>\n",
       "      <td>4005</td>\n",
       "    </tr>\n",
       "    <tr>\n",
       "      <th>1</th>\n",
       "      <td>2</td>\n",
       "      <td>9842</td>\n",
       "    </tr>\n",
       "    <tr>\n",
       "      <th>2</th>\n",
       "      <td>3</td>\n",
       "      <td>12338</td>\n",
       "    </tr>\n",
       "    <tr>\n",
       "      <th>3</th>\n",
       "      <td>4</td>\n",
       "      <td>24039</td>\n",
       "    </tr>\n",
       "    <tr>\n",
       "      <th>4</th>\n",
       "      <td>5</td>\n",
       "      <td>36295</td>\n",
       "    </tr>\n",
       "    <tr>\n",
       "      <th>5</th>\n",
       "      <td>6</td>\n",
       "      <td>40745</td>\n",
       "    </tr>\n",
       "    <tr>\n",
       "      <th>6</th>\n",
       "      <td>7</td>\n",
       "      <td>49394</td>\n",
       "    </tr>\n",
       "  </tbody>\n",
       "</table>\n",
       "</div>"
      ],
      "text/plain": [
       "  Dia   suma\n",
       "0   1   4005\n",
       "1   2   9842\n",
       "2   3  12338\n",
       "3   4  24039\n",
       "4   5  36295\n",
       "5   6  40745\n",
       "6   7  49394"
      ]
     },
     "execution_count": 21,
     "metadata": {},
     "output_type": "execute_result"
    }
   ],
   "source": [
    "registroShark = registroShark.groupby(['Dia'],as_index=False)['suma'].sum().sort_values(by=['Dia'], ascending=True)\n",
    "registroShark"
   ]
  },
  {
   "cell_type": "code",
   "execution_count": 22,
   "metadata": {},
   "outputs": [],
   "source": [
    "X2 = registroShark['Dia'].values.reshape(-1,1) # Como X solo tiene 1 tenemos que 'reshape' para asegurar que siga siendo una matrix (array) y no un vector (-1,)\n",
    "y2 = registroShark['suma'].values"
   ]
  },
  {
   "cell_type": "code",
   "execution_count": 23,
   "metadata": {},
   "outputs": [
    {
     "name": "stdout",
     "output_type": "stream",
     "text": [
      "La forma de X_train2 es:  (4, 1)\n",
      "La forma de y_train2 es:  (4,)\n",
      "La forma de X_test2 es:  (3, 1)\n",
      "La forma de y_test2 es:  (3,)\n"
     ]
    }
   ],
   "source": [
    "X_train2, X_test2, y_train2, y_test2 = train_test_split(X2, y2, test_size=0.3, random_state=0)\n",
    "print('La forma de X_train2 es: ', X_train2.shape)\n",
    "print('La forma de y_train2 es: ', y_train2.shape)\n",
    "print('La forma de X_test2 es: ', X_test2.shape)\n",
    "print('La forma de y_test2 es: ', y_test2.shape)"
   ]
  },
  {
   "cell_type": "code",
   "execution_count": 24,
   "metadata": {},
   "outputs": [
    {
     "data": {
      "text/plain": [
       "LinearRegression()"
      ]
     },
     "execution_count": 24,
     "metadata": {},
     "output_type": "execute_result"
    }
   ],
   "source": [
    "from sklearn.linear_model import LinearRegression\n",
    "regresor = LinearRegression()\n",
    "regresor.fit(X_train2, y_train2)"
   ]
  },
  {
   "cell_type": "code",
   "execution_count": 25,
   "metadata": {},
   "outputs": [],
   "source": [
    "y_fit2 = regresor.predict(X_train2) # Valores ajustados durante el entrenamiento\n",
    "y_pred2 = regresor.predict(X_test2)  # Valores resultantes con la nueva información"
   ]
  },
  {
   "cell_type": "code",
   "execution_count": null,
   "metadata": {},
   "outputs": [],
   "source": [
    "# Para el conjunto de entrenamiento\n",
    "plt.scatter(X_train2, y_train2, color = 'red')\n",
    "plt.plot(X_train2, y_fit2, color = 'blue')\n",
    "plt.title('Relación entre la cantidad de producto comprado en el monto total pagado')\n",
    "plt.xlabel('Cantidad de producto')\n",
    "plt.ylabel('Costo')\n",
    "plt.show()\n",
    "\n",
    "# Para el conjunto de validación\n",
    "plt.scatter(X_test2, y_test2, color = 'red')\n",
    "plt.plot(X_test2, y_pred2, color = 'blue')\n",
    "plt.title('Relación entre la cantidad de producto comprado en el monto total pagado')\n",
    "plt.xlabel('Cantidad de producto')\n",
    "plt.ylabel('Costo')\n",
    "plt.show()"
   ]
  },
  {
   "cell_type": "code",
   "execution_count": null,
   "metadata": {},
   "outputs": [],
   "source": [
    "from statsmodels.tools.eval_measures import rmse\n",
    "RMSE = np.sum(rmse(y_pred, y_test))/len(y)\n",
    "print('RMSE = ', RMSE)"
   ]
  },
  {
   "cell_type": "code",
   "execution_count": null,
   "metadata": {},
   "outputs": [],
   "source": [
    "lr = linear_model.LinearRegression() ##Declaración del algoritmo a utilizar.\n",
    "\n",
    "#Entreno el modelo\n",
    "lr.fit(X_train, y_train)\n",
    "\n",
    "#Realizo una predicción\n",
    "Y_pred = lr.predict(X_test)"
   ]
  },
  {
   "cell_type": "code",
   "execution_count": null,
   "metadata": {},
   "outputs": [],
   "source": [
    "print('DATOS DEL MODELO REGRESIÓN LINEAL SIMPLE')\n",
    "print()\n",
    "print('Valor de la pendiente o coeficiente \"w\":')\n",
    "print(lr.coef_)\n",
    "print('Valor de la intersección o coeficiente \"b\":')\n",
    "print(lr.intercept_)\n",
    "print()\n",
    "print('La ecuación del modelo es igual a:')\n",
    "print('y = ', lr.coef_, 'x ', lr.intercept_)"
   ]
  },
  {
   "cell_type": "code",
   "execution_count": null,
   "metadata": {},
   "outputs": [],
   "source": [
    "def numero(productos):\n",
    "    Y = lr.coef_[0]*productos + lr.intercept_\n",
    "    return Y"
   ]
  },
  {
   "cell_type": "markdown",
   "metadata": {},
   "source": [
    "# Predicción 2:"
   ]
  },
  {
   "cell_type": "code",
   "execution_count": null,
   "metadata": {},
   "outputs": [],
   "source": [
    "print(\"El número de SharkLoins vendidos para el día 8 es de\")\n",
    "print(\"\")\n",
    "print(\"El número de Shark - Loins vendidos para el día 8 es de:\" + str(numero(9)) + \" Shark - Loins\")"
   ]
  }
 ],
 "metadata": {
  "kernelspec": {
   "display_name": "Python 3",
   "language": "python",
   "name": "python3"
  },
  "language_info": {
   "codemirror_mode": {
    "name": "ipython",
    "version": 3
   },
   "file_extension": ".py",
   "mimetype": "text/x-python",
   "name": "python",
   "nbconvert_exporter": "python",
   "pygments_lexer": "ipython3",
   "version": "3.8.5"
  }
 },
 "nbformat": 4,
 "nbformat_minor": 4
}
